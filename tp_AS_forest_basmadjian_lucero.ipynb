{
  "nbformat": 4,
  "nbformat_minor": 0,
  "metadata": {
    "colab": {
      "name": "tp_AS_forest_basmadjian_lucero.ipynb",
      "provenance": []
    },
    "kernelspec": {
      "name": "python3",
      "display_name": "Python 3"
    }
  },
  "cells": [
    {
      "cell_type": "code",
      "metadata": {
        "id": "K_7ylvpxE1-j",
        "colab_type": "code",
        "colab": {}
      },
      "source": [
        "import numpy as np\n",
        "import pandas as pd\n",
        "\n",
        "from sklearn.model_selection import train_test_split\n",
        "from sklearn.ensemble import RandomForestClassifier\n",
        "from sklearn.model_selection import GridSearchCV, RandomizedSearchCV\n",
        "\n",
        "from sklearn.linear_model    import SGDClassifier, Perceptron\n",
        "from sklearn.dummy           import DummyClassifier\n",
        "from sklearn.tree            import DecisionTreeClassifier\n",
        "from sklearn.neighbors       import KNeighborsClassifier\n",
        "from sklearn.metrics         import accuracy_score\n",
        "\n",
        "import math\n",
        "from scipy import stats"
      ],
      "execution_count": 1,
      "outputs": []
    },
    {
      "cell_type": "code",
      "metadata": {
        "id": "Ff9bC_4kE9oW",
        "colab_type": "code",
        "colab": {}
      },
      "source": [
        "def first_n_digits(num, n):\n",
        "    return num // 10 ** (int(math.log(num, 10)) - n + 1)"
      ],
      "execution_count": 2,
      "outputs": []
    },
    {
      "cell_type": "code",
      "metadata": {
        "id": "9MTB_gJWFAfQ",
        "colab_type": "code",
        "colab": {}
      },
      "source": [
        "#transformamos los datos con la función utilizada en la notebook \"baseline\"\n",
        "def transform_data(train_data_fname, test_data_fname):\n",
        "    df_train = pd.read_csv(train_data_fname)\n",
        "    df_train['is_train_set'] = 1\n",
        "    df_test = pd.read_csv(test_data_fname)\n",
        "    df_test['is_train_set'] = 0\n",
        "\n",
        "    # we  get the TripType for the train set. To do that, we group by VisitNumber and\n",
        "    # then we get the max (or min or avg)\n",
        "    y = df_train.groupby([\"VisitNumber\", \"Weekday\"], as_index=False).max().TripType\n",
        "\n",
        "    # we remove the TripType now, and concat training and testing data\n",
        "    # the concat is done so that we have the same columns for both datasets\n",
        "    # after one-hot encoding\n",
        "    df_train = df_train.drop(\"TripType\", axis=1)\n",
        "    df = pd.concat([df_train, df_test])\n",
        "    \n",
        "    new_upc = []\n",
        "    for i in df['Upc']:\n",
        "        if not np.isnan(i):\n",
        "            i = first_n_digits(i, 4)\n",
        "        new_upc.append(i)\n",
        "    df['Upc'] = new_upc\n",
        "        \n",
        "    # one-hot encoding for the DepartmentDescription\n",
        "    df = pd.get_dummies(df, columns=[\"DepartmentDescription\"], dummy_na=True)\n",
        "    \n",
        "    \n",
        "\n",
        "    # now we add the groupby values\n",
        "    df = df.groupby([\"VisitNumber\", \"Weekday\"], as_index=False).sum()\n",
        "    \n",
        "    # finally, we do one-hot encoding for the Weekday\n",
        "    df = pd.get_dummies(df, columns=[\"Weekday\"], dummy_na=True)\n",
        "\n",
        "    # get train and test back\n",
        "    print(df_train)\n",
        "    df_train = df[df.is_train_set != 0]\n",
        "    df_test = df[df.is_train_set == 0]\n",
        "    \n",
        "    X = df_train.drop([\"is_train_set\"], axis=1)\n",
        "    yy = None\n",
        "    XX = df_test.drop([\"is_train_set\"], axis=1)\n",
        "\n",
        "    return X, y, XX, yy"
      ],
      "execution_count": 3,
      "outputs": []
    },
    {
      "cell_type": "code",
      "metadata": {
        "id": "ZtdkXKjYcTjN",
        "colab_type": "code",
        "colab": {}
      },
      "source": [
        "def print_results(df, rows=5):\n",
        "  df = df.sort_values(by='rank_test_score').head(rows)\n",
        "  param = ['rank_test_score', 'mean_test_score']\n",
        "  for i in dict_tree.keys():\n",
        "    param.append('param_'+str(i))\n",
        "  new_df = df.loc[:, param]\n",
        "  return new_df"
      ],
      "execution_count": 4,
      "outputs": []
    },
    {
      "cell_type": "code",
      "metadata": {
        "id": "GO9TD17pFOp9",
        "colab_type": "code",
        "colab": {
          "base_uri": "https://localhost:8080/",
          "height": 274
        },
        "outputId": "c8a6bc33-d754-44be-c1fd-a7a4734e16dc"
      },
      "source": [
        "X, y, XX, yy = transform_data('https://raw.githubusercontent.com/martinbas/AprendizajeSupervisado/master/practico/data/train.csv', \n",
        "                              'https://raw.githubusercontent.com/martinbas/AprendizajeSupervisado/master/practico/data/test.csv')"
      ],
      "execution_count": 5,
      "outputs": [
        {
          "output_type": "stream",
          "text": [
            "        VisitNumber Weekday  ...  FinelineNumber  is_train_set\n",
            "0                 5  Friday  ...          1000.0             1\n",
            "1                 9  Friday  ...           115.0             1\n",
            "2                 9  Friday  ...           103.0             1\n",
            "3                 9  Friday  ...          5501.0             1\n",
            "4                10  Friday  ...          2008.0             1\n",
            "...             ...     ...  ...             ...           ...\n",
            "453406       191344  Sunday  ...          3405.0             1\n",
            "453407       191344  Sunday  ...          1712.0             1\n",
            "453408       191344  Sunday  ...          3405.0             1\n",
            "453409       191347  Sunday  ...          1512.0             1\n",
            "453410       191347  Sunday  ...          3600.0             1\n",
            "\n",
            "[453411 rows x 7 columns]\n"
          ],
          "name": "stdout"
        }
      ]
    },
    {
      "cell_type": "code",
      "metadata": {
        "id": "YaC34_V3FvAz",
        "colab_type": "code",
        "colab": {}
      },
      "source": [
        "X_train, X_valid, y_train, y_valid = train_test_split(X, y, test_size=0.3, random_state=42)"
      ],
      "execution_count": 6,
      "outputs": []
    },
    {
      "cell_type": "code",
      "metadata": {
        "id": "PzzhY8RRFzRd",
        "colab_type": "code",
        "colab": {}
      },
      "source": [
        "random_state  = 42\n",
        "dict_models   =  {'DecisionTreeClassifier':  DecisionTreeClassifier(random_state=random_state),\n",
        "                  'KNeighborsClassifier':    KNeighborsClassifier(),\n",
        "                  'SGDClassifier':           SGDClassifier(random_state=random_state),\n",
        "                  'Perceptron':              Perceptron(),\n",
        "                  'Dummy_frequent':          DummyClassifier(strategy='most_frequent'),\n",
        "                  'Dummy_stratified':        DummyClassifier(strategy= 'stratified', random_state=random_state)\n",
        "                  }"
      ],
      "execution_count": 8,
      "outputs": []
    },
    {
      "cell_type": "code",
      "metadata": {
        "id": "oisHFdmU2zZF",
        "colab_type": "code",
        "colab": {
          "base_uri": "https://localhost:8080/",
          "height": 127
        },
        "outputId": "a596a861-9f03-41bf-c885-8591262cab49"
      },
      "source": [
        "# probamos con algunos modelos con valores por defecto\n",
        "dict_acc = {}\n",
        "c = 0\n",
        "for i in dict_models.keys():\n",
        "  model =       dict_models[i]\n",
        "  model.fit(X_train, y_train)\n",
        "  y_pred =      model.predict(X_valid)\n",
        "  dict_acc[i] = accuracy_score(y_valid, y_pred)\n",
        "  print(i, round(dict_acc[i], 2))\n",
        "  c += 1"
      ],
      "execution_count": 12,
      "outputs": [
        {
          "output_type": "stream",
          "text": [
            "DecisionTreeClassifier 0.61\n",
            "KNeighborsClassifier 0.26\n",
            "SGDClassifier 0.16\n",
            "Perceptron 0.07\n",
            "Dummy_frequent 0.13\n",
            "Dummy_stratified 0.06\n"
          ],
          "name": "stdout"
        }
      ]
    },
    {
      "cell_type": "code",
      "metadata": {
        "id": "cs9IvwHLF60U",
        "colab_type": "code",
        "colab": {}
      },
      "source": [
        "dict_tree = {'criterion':             ['gini', 'entropy'],\n",
        "             'min_samples_split':     [2, 10, 50, 100, 200, 500],\n",
        "             'max_features':          [None, 'auto', 'sqrt', 'log2'],\n",
        "            }"
      ],
      "execution_count": 13,
      "outputs": []
    },
    {
      "cell_type": "code",
      "metadata": {
        "id": "biU-zKR_IRfL",
        "colab_type": "code",
        "colab": {}
      },
      "source": [
        "# hacemos una búsqueda aleatoria de parámetros con el mejor modelo observado en el punto anterior (DecisionTreeClassifier)\n",
        "model =     DecisionTreeClassifier(random_state=42)\n",
        "clf =       RandomizedSearchCV(model, dict_tree, scoring='accuracy', cv=3)\n",
        "search =    clf.fit(X_train, y_train)\n",
        "search_df = pd.DataFrame(search.cv_results_)"
      ],
      "execution_count": 14,
      "outputs": []
    },
    {
      "cell_type": "code",
      "metadata": {
        "id": "PlQGV1ywcvy9",
        "colab_type": "code",
        "colab": {
          "base_uri": "https://localhost:8080/",
          "height": 206
        },
        "outputId": "b7629422-6bee-4333-bc34-89ade1d39afc"
      },
      "source": [
        "print_results(search_df)"
      ],
      "execution_count": 15,
      "outputs": [
        {
          "output_type": "execute_result",
          "data": {
            "text/html": [
              "<div>\n",
              "<style scoped>\n",
              "    .dataframe tbody tr th:only-of-type {\n",
              "        vertical-align: middle;\n",
              "    }\n",
              "\n",
              "    .dataframe tbody tr th {\n",
              "        vertical-align: top;\n",
              "    }\n",
              "\n",
              "    .dataframe thead th {\n",
              "        text-align: right;\n",
              "    }\n",
              "</style>\n",
              "<table border=\"1\" class=\"dataframe\">\n",
              "  <thead>\n",
              "    <tr style=\"text-align: right;\">\n",
              "      <th></th>\n",
              "      <th>rank_test_score</th>\n",
              "      <th>mean_test_score</th>\n",
              "      <th>param_criterion</th>\n",
              "      <th>param_min_samples_split</th>\n",
              "      <th>param_max_features</th>\n",
              "    </tr>\n",
              "  </thead>\n",
              "  <tbody>\n",
              "    <tr>\n",
              "      <th>4</th>\n",
              "      <td>1</td>\n",
              "      <td>0.595801</td>\n",
              "      <td>gini</td>\n",
              "      <td>2</td>\n",
              "      <td>None</td>\n",
              "    </tr>\n",
              "    <tr>\n",
              "      <th>5</th>\n",
              "      <td>2</td>\n",
              "      <td>0.585166</td>\n",
              "      <td>gini</td>\n",
              "      <td>10</td>\n",
              "      <td>sqrt</td>\n",
              "    </tr>\n",
              "    <tr>\n",
              "      <th>7</th>\n",
              "      <td>3</td>\n",
              "      <td>0.583078</td>\n",
              "      <td>entropy</td>\n",
              "      <td>10</td>\n",
              "      <td>None</td>\n",
              "    </tr>\n",
              "    <tr>\n",
              "      <th>9</th>\n",
              "      <td>4</td>\n",
              "      <td>0.566922</td>\n",
              "      <td>entropy</td>\n",
              "      <td>50</td>\n",
              "      <td>auto</td>\n",
              "    </tr>\n",
              "    <tr>\n",
              "      <th>6</th>\n",
              "      <td>5</td>\n",
              "      <td>0.564003</td>\n",
              "      <td>entropy</td>\n",
              "      <td>100</td>\n",
              "      <td>sqrt</td>\n",
              "    </tr>\n",
              "  </tbody>\n",
              "</table>\n",
              "</div>"
            ],
            "text/plain": [
              "   rank_test_score  mean_test_score  ... param_min_samples_split param_max_features\n",
              "4                1         0.595801  ...                       2               None\n",
              "5                2         0.585166  ...                      10               sqrt\n",
              "7                3         0.583078  ...                      10               None\n",
              "9                4         0.566922  ...                      50               auto\n",
              "6                5         0.564003  ...                     100               sqrt\n",
              "\n",
              "[5 rows x 5 columns]"
            ]
          },
          "metadata": {
            "tags": []
          },
          "execution_count": 15
        }
      ]
    },
    {
      "cell_type": "code",
      "metadata": {
        "id": "fNJSd2JTJOnr",
        "colab_type": "code",
        "colab": {}
      },
      "source": [
        "# A partir de los resultados anteriores volvemos a hacer una búsqueda de parámetros\n",
        "# pero esta vez a través de grilla de parámetros para profundizar el ajuste de los mejores parámetros\n",
        "dict_tree_grid = {'criterion'         : ['gini', 'entropy'],\n",
        "                  'max_features'      : [None, 'auto'],\n",
        "                  'min_samples_split' : [25, 50, 75, 100, 150, 200],\n",
        "                  'ccp_alpha'         : [0, 0.5, 1]\n",
        "                  }"
      ],
      "execution_count": 16,
      "outputs": []
    },
    {
      "cell_type": "code",
      "metadata": {
        "id": "vcqjuCQjQvRi",
        "colab_type": "code",
        "colab": {}
      },
      "source": [
        "model =      DecisionTreeClassifier(random_state=42)\n",
        "clf =        GridSearchCV(model, dict_tree_grid, scoring='accuracy', cv=3)\n",
        "search =     clf.fit(X_train, y_train)\n",
        "search_df =  pd.DataFrame(search.cv_results_)\n",
        "best_tree =  search.best_estimator_\n",
        "best_param = search.best_params_"
      ],
      "execution_count": 17,
      "outputs": []
    },
    {
      "cell_type": "code",
      "metadata": {
        "id": "ZaJqpDYzRQA0",
        "colab_type": "code",
        "colab": {
          "base_uri": "https://localhost:8080/",
          "height": 206
        },
        "outputId": "a5fe2c39-5ecb-4362-c5af-2cafa09485ed"
      },
      "source": [
        "print_results(search_df)\n",
        "# los mejores parámetros para \"criterion\" y \"max_features\" son gini y None respectivamente"
      ],
      "execution_count": 18,
      "outputs": [
        {
          "output_type": "execute_result",
          "data": {
            "text/html": [
              "<div>\n",
              "<style scoped>\n",
              "    .dataframe tbody tr th:only-of-type {\n",
              "        vertical-align: middle;\n",
              "    }\n",
              "\n",
              "    .dataframe tbody tr th {\n",
              "        vertical-align: top;\n",
              "    }\n",
              "\n",
              "    .dataframe thead th {\n",
              "        text-align: right;\n",
              "    }\n",
              "</style>\n",
              "<table border=\"1\" class=\"dataframe\">\n",
              "  <thead>\n",
              "    <tr style=\"text-align: right;\">\n",
              "      <th></th>\n",
              "      <th>rank_test_score</th>\n",
              "      <th>mean_test_score</th>\n",
              "      <th>param_criterion</th>\n",
              "      <th>param_min_samples_split</th>\n",
              "      <th>param_max_features</th>\n",
              "    </tr>\n",
              "  </thead>\n",
              "  <tbody>\n",
              "    <tr>\n",
              "      <th>2</th>\n",
              "      <td>1</td>\n",
              "      <td>0.640580</td>\n",
              "      <td>gini</td>\n",
              "      <td>75</td>\n",
              "      <td>None</td>\n",
              "    </tr>\n",
              "    <tr>\n",
              "      <th>3</th>\n",
              "      <td>2</td>\n",
              "      <td>0.638512</td>\n",
              "      <td>gini</td>\n",
              "      <td>100</td>\n",
              "      <td>None</td>\n",
              "    </tr>\n",
              "    <tr>\n",
              "      <th>1</th>\n",
              "      <td>3</td>\n",
              "      <td>0.638086</td>\n",
              "      <td>gini</td>\n",
              "      <td>50</td>\n",
              "      <td>None</td>\n",
              "    </tr>\n",
              "    <tr>\n",
              "      <th>4</th>\n",
              "      <td>4</td>\n",
              "      <td>0.634506</td>\n",
              "      <td>gini</td>\n",
              "      <td>150</td>\n",
              "      <td>None</td>\n",
              "    </tr>\n",
              "    <tr>\n",
              "      <th>5</th>\n",
              "      <td>5</td>\n",
              "      <td>0.632225</td>\n",
              "      <td>gini</td>\n",
              "      <td>200</td>\n",
              "      <td>None</td>\n",
              "    </tr>\n",
              "  </tbody>\n",
              "</table>\n",
              "</div>"
            ],
            "text/plain": [
              "   rank_test_score  mean_test_score  ... param_min_samples_split param_max_features\n",
              "2                1         0.640580  ...                      75               None\n",
              "3                2         0.638512  ...                     100               None\n",
              "1                3         0.638086  ...                      50               None\n",
              "4                4         0.634506  ...                     150               None\n",
              "5                5         0.632225  ...                     200               None\n",
              "\n",
              "[5 rows x 5 columns]"
            ]
          },
          "metadata": {
            "tags": []
          },
          "execution_count": 18
        }
      ]
    },
    {
      "cell_type": "code",
      "metadata": {
        "id": "7dtM3kppYNcU",
        "colab_type": "code",
        "colab": {}
      },
      "source": [
        "# generamos un random forest con los parámetros anteriores\n",
        "model =      RandomForestClassifier(min_samples_split=75, max_features= None, \n",
        "                                    random_state=42)\n",
        "clf_forest = model.fit(X_train, y_train)\n",
        "y_pred =     clf_forest.predict(X_valid)\n",
        "acc =        accuracy_score(y_valid, y_pred)\n",
        "acc"
      ],
      "execution_count": null,
      "outputs": []
    },
    {
      "cell_type": "code",
      "metadata": {
        "id": "cjvC97nz0N-H",
        "colab_type": "code",
        "colab": {}
      },
      "source": [
        "model =      RandomForestClassifier(min_samples_split=75, max_features= None, \n",
        "                                    random_state=42)\n",
        "clf_forest = model.fit(X, y)\n",
        "yy =         clf_forest.predict(XX)\n",
        "submission = pd.DataFrame(list(zip(XX.VisitNumber, yy)), \n",
        "                          columns=[\"VisitNumber\", \"TripType\"])"
      ],
      "execution_count": null,
      "outputs": []
    },
    {
      "cell_type": "code",
      "metadata": {
        "id": "XbuiBfYGzSwl",
        "colab_type": "code",
        "colab": {}
      },
      "source": [
        "from google.colab import files\n",
        "\n",
        "submission.to_csv('tp_AS_basmadjian_lucero.csv', header=True, index=False)\n",
        "files.download('tp_AS_basmadjian_lucero.csv')"
      ],
      "execution_count": null,
      "outputs": []
    }
  ]
}