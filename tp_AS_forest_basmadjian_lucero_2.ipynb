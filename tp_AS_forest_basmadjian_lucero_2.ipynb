{
 "cells": [
  {
   "cell_type": "code",
   "execution_count": 1,
   "metadata": {
    "colab": {},
    "colab_type": "code",
    "id": "K_7ylvpxE1-j"
   },
   "outputs": [],
   "source": [
    "import numpy as np\n",
    "import pandas as pd\n",
    "\n",
    "from sklearn.model_selection import train_test_split\n",
    "from sklearn.ensemble import RandomForestClassifier\n",
    "from sklearn.model_selection import GridSearchCV, RandomizedSearchCV\n",
    "\n",
    "from sklearn.linear_model    import SGDClassifier, Perceptron\n",
    "from sklearn.dummy           import DummyClassifier\n",
    "from sklearn.tree            import DecisionTreeClassifier\n",
    "from sklearn.neighbors       import KNeighborsClassifier\n",
    "from sklearn.metrics         import accuracy_score\n",
    "from sklearn import svm\n",
    "\n",
    "import math\n",
    "from scipy import stats"
   ]
  },
  {
   "cell_type": "code",
   "execution_count": 2,
   "metadata": {
    "colab": {},
    "colab_type": "code",
    "id": "Ff9bC_4kE9oW"
   },
   "outputs": [],
   "source": [
    "def first_n_digits(num, n):\n",
    "    return num // 10 ** (int(math.log(num, 10)) - n + 1)"
   ]
  },
  {
   "cell_type": "code",
   "execution_count": 3,
   "metadata": {
    "colab": {},
    "colab_type": "code",
    "id": "9MTB_gJWFAfQ"
   },
   "outputs": [],
   "source": [
    "#transformamos los datos con la función utilizada en la notebook \"baseline\"\n",
    "def transform_data(train_data_fname, test_data_fname):\n",
    "    df_train = pd.read_csv(train_data_fname)\n",
    "    df_train['is_train_set'] = 1\n",
    "    df_test = pd.read_csv(test_data_fname)\n",
    "    df_test['is_train_set'] = 0\n",
    "\n",
    "    # we  get the TripType for the train set. To do that, we group by VisitNumber and\n",
    "    # then we get the max (or min or avg)\n",
    "    y = df_train.groupby([\"VisitNumber\", \"Weekday\"], as_index=False).max().TripType\n",
    "\n",
    "    # we remove the TripType now, and concat training and testing data\n",
    "    # the concat is done so that we have the same columns for both datasets\n",
    "    # after one-hot encoding\n",
    "    df_train = df_train.drop(\"TripType\", axis=1)\n",
    "    df = pd.concat([df_train, df_test])\n",
    "    \n",
    "    # one-hot encoding for the DepartmentDescription\n",
    "    df = pd.get_dummies(df, columns=[\"DepartmentDescription\"], dummy_na=True)\n",
    "\n",
    "    # now we add the groupby values\n",
    "    df = df.groupby([\"VisitNumber\", \"Weekday\"], as_index=False).sum()\n",
    "    \n",
    "    # finally, we do one-hot encoding for the Weekday\n",
    "    df = pd.get_dummies(df, columns=[\"Weekday\"], dummy_na=True)\n",
    "\n",
    "    # get train and test back\n",
    "    print(df_train)\n",
    "    df_train = df[df.is_train_set != 0]\n",
    "    df_test = df[df.is_train_set == 0]\n",
    "    \n",
    "    X = df_train.drop([\"is_train_set\"], axis=1)\n",
    "    yy = None\n",
    "    XX = df_test.drop([\"is_train_set\"], axis=1)\n",
    "\n",
    "    return X, y, XX, yy"
   ]
  },
  {
   "cell_type": "code",
   "execution_count": 4,
   "metadata": {
    "colab": {},
    "colab_type": "code",
    "id": "ZtdkXKjYcTjN"
   },
   "outputs": [],
   "source": [
    "def print_results(df, rows=5):\n",
    "  df = df.sort_values(by='rank_test_score').head(rows)\n",
    "  param = ['rank_test_score', 'mean_test_score']\n",
    "  for i in dict_tree.keys():\n",
    "    param.append('param_'+str(i))\n",
    "  new_df = df.loc[:, param]\n",
    "  return new_df"
   ]
  },
  {
   "cell_type": "code",
   "execution_count": 5,
   "metadata": {
    "colab": {
     "base_uri": "https://localhost:8080/",
     "height": 274
    },
    "colab_type": "code",
    "id": "GO9TD17pFOp9",
    "outputId": "c8a6bc33-d754-44be-c1fd-a7a4734e16dc"
   },
   "outputs": [
    {
     "name": "stdout",
     "output_type": "stream",
     "text": [
      "        VisitNumber Weekday           Upc  ScanCount DepartmentDescription  \\\n",
      "0                 5  Friday  6.811315e+10         -1    FINANCIAL SERVICES   \n",
      "1                 9  Friday  1.070081e+09          1   IMPULSE MERCHANDISE   \n",
      "2                 9  Friday  3.107000e+03          1               PRODUCE   \n",
      "3                 9  Friday  4.011000e+03          1               PRODUCE   \n",
      "4                10  Friday  6.414410e+09          1           DSD GROCERY   \n",
      "...             ...     ...           ...        ...                   ...   \n",
      "453406       191344  Sunday  7.315096e+10          1                BEAUTY   \n",
      "453407       191344  Sunday  6.505300e+10          1              WIRELESS   \n",
      "453408       191344  Sunday  7.918131e+09          1                BEAUTY   \n",
      "453409       191347  Sunday  4.190008e+09          1                 DAIRY   \n",
      "453410       191347  Sunday  3.800060e+09          1     GROCERY DRY GOODS   \n",
      "\n",
      "        FinelineNumber  is_train_set  \n",
      "0               1000.0             1  \n",
      "1                115.0             1  \n",
      "2                103.0             1  \n",
      "3               5501.0             1  \n",
      "4               2008.0             1  \n",
      "...                ...           ...  \n",
      "453406          3405.0             1  \n",
      "453407          1712.0             1  \n",
      "453408          3405.0             1  \n",
      "453409          1512.0             1  \n",
      "453410          3600.0             1  \n",
      "\n",
      "[453411 rows x 7 columns]\n"
     ]
    }
   ],
   "source": [
    "X, y, XX, yy = transform_data('https://raw.githubusercontent.com/martinbas/AprendizajeSupervisado/master/practico/data/train.csv', \n",
    "                              'https://raw.githubusercontent.com/martinbas/AprendizajeSupervisado/master/practico/data/test.csv')"
   ]
  },
  {
   "cell_type": "code",
   "execution_count": 6,
   "metadata": {
    "colab": {},
    "colab_type": "code",
    "id": "YaC34_V3FvAz"
   },
   "outputs": [],
   "source": [
    "X_train, X_valid, y_train, y_valid = train_test_split(X, y, test_size=0.3, random_state=42)"
   ]
  },
  {
   "cell_type": "code",
   "execution_count": 9,
   "metadata": {
    "colab": {},
    "colab_type": "code",
    "id": "PzzhY8RRFzRd"
   },
   "outputs": [],
   "source": [
    "random_state  = 42\n",
    "dict_models   =  {'DecisionTreeClassifier':  DecisionTreeClassifier(random_state=random_state),\n",
    "                  'KNeighborsClassifier':    KNeighborsClassifier(),\n",
    "                  'SGDClassifier':           SGDClassifier(random_state=random_state),\n",
    "                  'Perceptron':              Perceptron(),\n",
    "                  'Dummy_frequent':          DummyClassifier(strategy='most_frequent'),\n",
    "                  'Dummy_stratified':        DummyClassifier(strategy= 'stratified', random_state=random_state)\n",
    "                  }"
   ]
  },
  {
   "cell_type": "code",
   "execution_count": 10,
   "metadata": {
    "colab": {
     "base_uri": "https://localhost:8080/",
     "height": 127
    },
    "colab_type": "code",
    "id": "oisHFdmU2zZF",
    "outputId": "a596a861-9f03-41bf-c885-8591262cab49"
   },
   "outputs": [
    {
     "name": "stdout",
     "output_type": "stream",
     "text": [
      "DecisionTreeClassifier 0.6\n",
      "KNeighborsClassifier 0.3\n",
      "SGDClassifier 0.02\n",
      "Perceptron 0.1\n",
      "Dummy_frequent 0.13\n",
      "Dummy_stratified 0.06\n"
     ]
    }
   ],
   "source": [
    "# probamos con algunos modelos con valores por defecto\n",
    "dict_acc = {}\n",
    "c = 0\n",
    "for i in dict_models.keys():\n",
    "  model =       dict_models[i]\n",
    "  model.fit(X_train, y_train)\n",
    "  y_pred =      model.predict(X_valid)\n",
    "  dict_acc[i] = accuracy_score(y_valid, y_pred)\n",
    "  print(i, round(dict_acc[i], 2))\n",
    "  c += 1"
   ]
  },
  {
   "cell_type": "code",
   "execution_count": 11,
   "metadata": {
    "colab": {},
    "colab_type": "code",
    "id": "cs9IvwHLF60U"
   },
   "outputs": [],
   "source": [
    "dict_tree = {'criterion':             ['gini', 'entropy'],\n",
    "             'min_samples_split':     [2, 10, 50, 100, 200, 500],\n",
    "             'max_features':          [None, 'auto', 'sqrt', 'log2'],\n",
    "            }"
   ]
  },
  {
   "cell_type": "code",
   "execution_count": 12,
   "metadata": {
    "colab": {},
    "colab_type": "code",
    "id": "biU-zKR_IRfL"
   },
   "outputs": [],
   "source": [
    "# hacemos una búsqueda aleatoria de parámetros con el mejor modelo observado en el punto anterior (DecisionTreeClassifier)\n",
    "model =     DecisionTreeClassifier(random_state=42)\n",
    "clf =       RandomizedSearchCV(model, dict_tree, scoring='accuracy', cv=3)\n",
    "search =    clf.fit(X_train, y_train)\n",
    "search_df = pd.DataFrame(search.cv_results_)"
   ]
  },
  {
   "cell_type": "code",
   "execution_count": 13,
   "metadata": {
    "colab": {
     "base_uri": "https://localhost:8080/",
     "height": 206
    },
    "colab_type": "code",
    "id": "PlQGV1ywcvy9",
    "outputId": "b7629422-6bee-4333-bc34-89ade1d39afc"
   },
   "outputs": [
    {
     "data": {
      "text/html": [
       "<div>\n",
       "<style scoped>\n",
       "    .dataframe tbody tr th:only-of-type {\n",
       "        vertical-align: middle;\n",
       "    }\n",
       "\n",
       "    .dataframe tbody tr th {\n",
       "        vertical-align: top;\n",
       "    }\n",
       "\n",
       "    .dataframe thead th {\n",
       "        text-align: right;\n",
       "    }\n",
       "</style>\n",
       "<table border=\"1\" class=\"dataframe\">\n",
       "  <thead>\n",
       "    <tr style=\"text-align: right;\">\n",
       "      <th></th>\n",
       "      <th>rank_test_score</th>\n",
       "      <th>mean_test_score</th>\n",
       "      <th>param_criterion</th>\n",
       "      <th>param_min_samples_split</th>\n",
       "      <th>param_max_features</th>\n",
       "    </tr>\n",
       "  </thead>\n",
       "  <tbody>\n",
       "    <tr>\n",
       "      <th>7</th>\n",
       "      <td>1</td>\n",
       "      <td>0.630435</td>\n",
       "      <td>gini</td>\n",
       "      <td>200</td>\n",
       "      <td>None</td>\n",
       "    </tr>\n",
       "    <tr>\n",
       "      <th>1</th>\n",
       "      <td>2</td>\n",
       "      <td>0.616155</td>\n",
       "      <td>entropy</td>\n",
       "      <td>100</td>\n",
       "      <td>None</td>\n",
       "    </tr>\n",
       "    <tr>\n",
       "      <th>4</th>\n",
       "      <td>3</td>\n",
       "      <td>0.606095</td>\n",
       "      <td>gini</td>\n",
       "      <td>10</td>\n",
       "      <td>None</td>\n",
       "    </tr>\n",
       "    <tr>\n",
       "      <th>5</th>\n",
       "      <td>4</td>\n",
       "      <td>0.586509</td>\n",
       "      <td>entropy</td>\n",
       "      <td>500</td>\n",
       "      <td>None</td>\n",
       "    </tr>\n",
       "    <tr>\n",
       "      <th>0</th>\n",
       "      <td>5</td>\n",
       "      <td>0.539066</td>\n",
       "      <td>gini</td>\n",
       "      <td>10</td>\n",
       "      <td>log2</td>\n",
       "    </tr>\n",
       "  </tbody>\n",
       "</table>\n",
       "</div>"
      ],
      "text/plain": [
       "   rank_test_score  mean_test_score param_criterion param_min_samples_split  \\\n",
       "7                1         0.630435            gini                     200   \n",
       "1                2         0.616155         entropy                     100   \n",
       "4                3         0.606095            gini                      10   \n",
       "5                4         0.586509         entropy                     500   \n",
       "0                5         0.539066            gini                      10   \n",
       "\n",
       "  param_max_features  \n",
       "7               None  \n",
       "1               None  \n",
       "4               None  \n",
       "5               None  \n",
       "0               log2  "
      ]
     },
     "execution_count": 13,
     "metadata": {},
     "output_type": "execute_result"
    }
   ],
   "source": [
    "print_results(search_df)"
   ]
  },
  {
   "cell_type": "code",
   "execution_count": 14,
   "metadata": {
    "colab": {},
    "colab_type": "code",
    "id": "fNJSd2JTJOnr"
   },
   "outputs": [],
   "source": [
    "# A partir de los resultados anteriores volvemos a hacer una búsqueda de parámetros\n",
    "# pero esta vez a través de grilla de parámetros para profundizar el ajuste de los mejores parámetros\n",
    "dict_tree_grid = {'criterion'         : ['gini', 'entropy'],\n",
    "                  'max_features'      : [None, 'auto'],\n",
    "                  'min_samples_split' : [25, 50, 75, 100, 150, 200],\n",
    "                  'ccp_alpha'         : [0, 0.5, 1]\n",
    "                  }"
   ]
  },
  {
   "cell_type": "code",
   "execution_count": 15,
   "metadata": {
    "colab": {},
    "colab_type": "code",
    "id": "vcqjuCQjQvRi"
   },
   "outputs": [],
   "source": [
    "model =      DecisionTreeClassifier(random_state=42)\n",
    "clf =        GridSearchCV(model, dict_tree_grid, scoring='accuracy', cv=3)\n",
    "search =     clf.fit(X_train, y_train)\n",
    "search_df =  pd.DataFrame(search.cv_results_)\n",
    "best_tree =  search.best_estimator_\n",
    "best_param = search.best_params_"
   ]
  },
  {
   "cell_type": "code",
   "execution_count": 16,
   "metadata": {
    "colab": {
     "base_uri": "https://localhost:8080/",
     "height": 206
    },
    "colab_type": "code",
    "id": "ZaJqpDYzRQA0",
    "outputId": "a5fe2c39-5ecb-4362-c5af-2cafa09485ed"
   },
   "outputs": [
    {
     "data": {
      "text/html": [
       "<div>\n",
       "<style scoped>\n",
       "    .dataframe tbody tr th:only-of-type {\n",
       "        vertical-align: middle;\n",
       "    }\n",
       "\n",
       "    .dataframe tbody tr th {\n",
       "        vertical-align: top;\n",
       "    }\n",
       "\n",
       "    .dataframe thead th {\n",
       "        text-align: right;\n",
       "    }\n",
       "</style>\n",
       "<table border=\"1\" class=\"dataframe\">\n",
       "  <thead>\n",
       "    <tr style=\"text-align: right;\">\n",
       "      <th></th>\n",
       "      <th>rank_test_score</th>\n",
       "      <th>mean_test_score</th>\n",
       "      <th>param_criterion</th>\n",
       "      <th>param_min_samples_split</th>\n",
       "      <th>param_max_features</th>\n",
       "    </tr>\n",
       "  </thead>\n",
       "  <tbody>\n",
       "    <tr>\n",
       "      <th>2</th>\n",
       "      <td>1</td>\n",
       "      <td>0.635763</td>\n",
       "      <td>gini</td>\n",
       "      <td>75</td>\n",
       "      <td>None</td>\n",
       "    </tr>\n",
       "    <tr>\n",
       "      <th>3</th>\n",
       "      <td>2</td>\n",
       "      <td>0.634676</td>\n",
       "      <td>gini</td>\n",
       "      <td>100</td>\n",
       "      <td>None</td>\n",
       "    </tr>\n",
       "    <tr>\n",
       "      <th>1</th>\n",
       "      <td>3</td>\n",
       "      <td>0.632396</td>\n",
       "      <td>gini</td>\n",
       "      <td>50</td>\n",
       "      <td>None</td>\n",
       "    </tr>\n",
       "    <tr>\n",
       "      <th>5</th>\n",
       "      <td>4</td>\n",
       "      <td>0.630435</td>\n",
       "      <td>gini</td>\n",
       "      <td>200</td>\n",
       "      <td>None</td>\n",
       "    </tr>\n",
       "    <tr>\n",
       "      <th>4</th>\n",
       "      <td>5</td>\n",
       "      <td>0.629881</td>\n",
       "      <td>gini</td>\n",
       "      <td>150</td>\n",
       "      <td>None</td>\n",
       "    </tr>\n",
       "  </tbody>\n",
       "</table>\n",
       "</div>"
      ],
      "text/plain": [
       "   rank_test_score  mean_test_score param_criterion param_min_samples_split  \\\n",
       "2                1         0.635763            gini                      75   \n",
       "3                2         0.634676            gini                     100   \n",
       "1                3         0.632396            gini                      50   \n",
       "5                4         0.630435            gini                     200   \n",
       "4                5         0.629881            gini                     150   \n",
       "\n",
       "  param_max_features  \n",
       "2               None  \n",
       "3               None  \n",
       "1               None  \n",
       "5               None  \n",
       "4               None  "
      ]
     },
     "execution_count": 16,
     "metadata": {},
     "output_type": "execute_result"
    }
   ],
   "source": [
    "print_results(search_df)\n",
    "# los mejores parámetros para \"criterion\" y \"max_features\" son gini y None respectivamente"
   ]
  },
  {
   "cell_type": "code",
   "execution_count": 17,
   "metadata": {
    "colab": {},
    "colab_type": "code",
    "id": "7dtM3kppYNcU"
   },
   "outputs": [
    {
     "data": {
      "text/plain": [
       "0.6777562285543787"
      ]
     },
     "execution_count": 17,
     "metadata": {},
     "output_type": "execute_result"
    }
   ],
   "source": [
    "# generamos un random forest con los parámetros anteriores\n",
    "model =      RandomForestClassifier(min_samples_split=75, max_features= None, \n",
    "                                    random_state=42)\n",
    "clf_forest = model.fit(X_train, y_train)\n",
    "y_pred =     clf_forest.predict(X_valid)\n",
    "acc =        accuracy_score(y_valid, y_pred)\n",
    "acc"
   ]
  },
  {
   "cell_type": "code",
   "execution_count": 18,
   "metadata": {},
   "outputs": [
    {
     "name": "stdout",
     "output_type": "stream",
     "text": [
      "0.6952110995076831\n"
     ]
    }
   ],
   "source": [
    "# generamos un random forest con los parámetros anteriores\n",
    "model =      RandomForestClassifier(min_samples_split=25, max_features= \"auto\", \n",
    "                                    random_state=42)\n",
    "clf_forest = model.fit(X_train, y_train)\n",
    "y_pred =     clf_forest.predict(X_valid)\n",
    "acc =        accuracy_score(y_valid, y_pred)\n",
    "print(acc)"
   ]
  },
  {
   "cell_type": "code",
   "execution_count": 19,
   "metadata": {},
   "outputs": [
    {
     "name": "stdout",
     "output_type": "stream",
     "text": [
      "0.7000845392610274\n"
     ]
    }
   ],
   "source": [
    "model =      RandomForestClassifier(min_samples_split=25, bootstrap=False,\n",
    "                                    random_state=42)\n",
    "clf_forest = model.fit(X_train, y_train)\n",
    "y_pred =     clf_forest.predict(X_valid)\n",
    "acc =        accuracy_score(y_valid, y_pred)\n",
    "print(acc)"
   ]
  },
  {
   "cell_type": "code",
   "execution_count": 20,
   "metadata": {
    "colab": {},
    "colab_type": "code",
    "id": "cjvC97nz0N-H"
   },
   "outputs": [],
   "source": [
    "model =      RandomForestClassifier(min_samples_split=25, bootstrap=False,\n",
    "                                    random_state=42)\n",
    "clf_forest = model.fit(X, y)\n",
    "yy =         clf_forest.predict(XX)\n",
    "submission = pd.DataFrame(list(zip(XX.VisitNumber, yy)), \n",
    "                          columns=[\"VisitNumber\", \"TripType\"])"
   ]
  },
  {
   "cell_type": "code",
   "execution_count": null,
   "metadata": {
    "colab": {},
    "colab_type": "code",
    "id": "XbuiBfYGzSwl"
   },
   "outputs": [],
   "source": [
    "from google.colab import files\n",
    "\n",
    "submission.to_csv('tp_AS_basmadjian_lucero.csv', header=True, index=False)\n",
    "files.download('tp_AS_basmadjian_lucero.csv')"
   ]
  }
 ],
 "metadata": {
  "colab": {
   "name": "tp_AS_forest_basmadjian_lucero.ipynb",
   "provenance": []
  },
  "kernelspec": {
   "display_name": "Python 3",
   "language": "python",
   "name": "python3"
  },
  "language_info": {
   "codemirror_mode": {
    "name": "ipython",
    "version": 3
   },
   "file_extension": ".py",
   "mimetype": "text/x-python",
   "name": "python",
   "nbconvert_exporter": "python",
   "pygments_lexer": "ipython3",
   "version": "3.6.10"
  }
 },
 "nbformat": 4,
 "nbformat_minor": 1
}
